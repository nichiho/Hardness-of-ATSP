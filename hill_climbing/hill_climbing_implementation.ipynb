{
 "cells": [
  {
   "cell_type": "code",
   "execution_count": 1,
   "metadata": {},
   "outputs": [],
   "source": [
    "# Imports\n",
    "\n",
    "from hill_climbing import hill_climbing_open_file, hill_climbing_continue\n",
    "import numpy as np\n",
    "\n",
    "import os\n",
    "\n",
    "import pickle"
   ]
  },
  {
   "cell_type": "code",
   "execution_count": 2,
   "metadata": {},
   "outputs": [],
   "source": [
    "# Open data\n",
    "n_runs = 10\n",
    "n_cities = 30\n",
    "max_value = 10000\n",
    "n_generations = 1500\n",
    "folder = 'data'\n",
    "\n",
    "mtx_list, run_time_list, performance_list, used_or_not_list, indices_list = hill_climbing_open_file(n_runs, n_cities, max_value, n_generations, folder)"
   ]
  },
  {
   "cell_type": "code",
   "execution_count": 7,
   "metadata": {},
   "outputs": [],
   "source": [
    "# File too large so divide to two\n",
    "data_1 = {'mtx_list': mtx_list[0:5],\n",
    "        'run_time_list': run_time_list[0:5],\n",
    "        'performance_list': performance_list[0:5],\n",
    "        'used_or_not_list': used_or_not_list[0:5],\n",
    "        'indices_list': indices_list[0:5]}\n",
    "\n",
    "filename_1 = 'data/list_{}_{}_{}_{}_1.pkl'.format(n_runs, n_cities, max_value, n_generations)\n",
    "\n",
    "with open(filename_1, 'wb') as f:\n",
    "    pickle.dump(data_1, f)\n",
    "    \n",
    "data_2 = {'mtx_list': mtx_list[5:10],\n",
    "        'run_time_list': run_time_list[5:10],\n",
    "        'performance_list': performance_list[5:10],\n",
    "        'used_or_not_list': used_or_not_list[5:10],\n",
    "        'indices_list': indices_list[5:10]}\n",
    "\n",
    "filename_2 = 'data/list_{}_{}_{}_{}_2.pkl'.format(n_runs, n_cities, max_value, n_generations)\n",
    "\n",
    "with open(filename_2, 'wb') as f:\n",
    "    pickle.dump(data_2, f)"
   ]
  },
  {
   "cell_type": "code",
   "execution_count": 7,
   "metadata": {},
   "outputs": [
    {
     "data": {
      "text/plain": [
       "1001"
      ]
     },
     "execution_count": 7,
     "metadata": {},
     "output_type": "execute_result"
    }
   ],
   "source": [
    "len(run_time_list[5])"
   ]
  },
  {
   "cell_type": "code",
   "execution_count": 238,
   "metadata": {},
   "outputs": [
    {
     "name": "stdout",
     "output_type": "stream",
     "text": [
      "Finished  1 generation in  637.9479188919067 seconds!\n",
      "Finished  2 generation in  437.2389681339264 seconds!\n"
     ]
    }
   ],
   "source": [
    "# Continue running hill-climber\n",
    "mtx_list_continued, run_time_list_continued, performance_list_continued, used_or_not_continued, indices_continued = hill_climbing_continue(n_cities, max_value, 500, mtx_list[2], run_time_list[2], performance_list[2], used_or_not_list[2], indices_list[2])"
   ]
  },
  {
   "cell_type": "code",
   "execution_count": 8,
   "metadata": {},
   "outputs": [],
   "source": [
    "# Save the lists\n",
    "data = {'mtx_list': mtx_list,\n",
    "        'run_time_list': run_time_list,\n",
    "        'performance_list': performance_list,\n",
    "        'used_or_not_list': used_or_not_list,\n",
    "        'indices_list': indices_list}\n",
    "\n",
    "n_generations = 1500\n",
    "\n",
    "filename = 'data/list_{}_{}_{}_{}.pkl'.format(n_runs, n_cities, max_value, n_generations)\n",
    "\n",
    "with open(filename, 'wb') as f:\n",
    "    pickle.dump(data, f)"
   ]
  },
  {
   "cell_type": "code",
   "execution_count": 223,
   "metadata": {},
   "outputs": [],
   "source": []
  },
  {
   "cell_type": "code",
   "execution_count": null,
   "metadata": {},
   "outputs": [],
   "source": []
  }
 ],
 "metadata": {
  "kernelspec": {
   "display_name": ".venv",
   "language": "python",
   "name": "python3"
  },
  "language_info": {
   "codemirror_mode": {
    "name": "ipython",
    "version": 3
   },
   "file_extension": ".py",
   "mimetype": "text/x-python",
   "name": "python",
   "nbconvert_exporter": "python",
   "pygments_lexer": "ipython3",
   "version": "3.10.4"
  },
  "orig_nbformat": 4
 },
 "nbformat": 4,
 "nbformat_minor": 2
}
