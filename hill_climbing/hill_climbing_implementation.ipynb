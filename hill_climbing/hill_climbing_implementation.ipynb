{
 "cells": [
  {
   "cell_type": "code",
   "execution_count": 1,
   "metadata": {},
   "outputs": [],
   "source": [
    "# Imports\n",
    "\n",
    "from hill_climbing import hill_climbing_open_file, hill_climbing_continue\n",
    "import numpy as np\n",
    "\n",
    "import os\n",
    "\n",
    "import pickle"
   ]
  },
  {
   "cell_type": "code",
   "execution_count": 2,
   "metadata": {},
   "outputs": [],
   "source": [
    "# Open data\n",
    "n_runs = 10\n",
    "n_cities = 30\n",
    "max_value = 10000\n",
    "n_generations = 2000\n",
    "folder = 'data'\n",
    "\n",
    "mtx_list, run_time_list, performance_list, used_or_not_list, indices_list = hill_climbing_open_file(n_runs, n_cities, max_value, '1500_1', folder)"
   ]
  },
  {
   "cell_type": "code",
   "execution_count": 5,
   "metadata": {},
   "outputs": [
    {
     "data": {
      "text/plain": [
       "1505"
      ]
     },
     "execution_count": 5,
     "metadata": {},
     "output_type": "execute_result"
    }
   ],
   "source": [
    "len(mtx_list[2])"
   ]
  },
  {
   "cell_type": "code",
   "execution_count": 7,
   "metadata": {},
   "outputs": [],
   "source": [
    "# File too large so divide to two\n",
    "data_1 = {'mtx_list': mtx_list[0:5],\n",
    "        'run_time_list': run_time_list[0:5],\n",
    "        'performance_list': performance_list[0:5],\n",
    "        'used_or_not_list': used_or_not_list[0:5],\n",
    "        'indices_list': indices_list[0:5]}\n",
    "\n",
    "filename_1 = 'data/list_{}_{}_{}_{}_1.pkl'.format(n_runs, n_cities, max_value, n_generations)\n",
    "\n",
    "with open(filename_1, 'wb') as f:\n",
    "    pickle.dump(data_1, f)\n",
    "    \n",
    "data_2 = {'mtx_list': mtx_list[5:10],\n",
    "        'run_time_list': run_time_list[5:10],\n",
    "        'performance_list': performance_list[5:10],\n",
    "        'used_or_not_list': used_or_not_list[5:10],\n",
    "        'indices_list': indices_list[5:10]}"
   ]
  },
  {
   "cell_type": "code",
   "execution_count": 9,
   "metadata": {},
   "outputs": [],
   "source": [
    "mtx_list, run_time_list, performance_list, used_or_not_list, indices_list = hill_climbing_open_file(n_runs, n_cities, max_value, '1500_1', folder)"
   ]
  },
  {
   "cell_type": "code",
   "execution_count": 11,
   "metadata": {},
   "outputs": [
    {
     "name": "stdout",
     "output_type": "stream",
     "text": [
      "0\n",
      "1\n",
      "2\n",
      "3\n",
      "4\n"
     ]
    }
   ],
   "source": [
    "for i in range(0, 5):\n",
    "    print(i)"
   ]
  },
  {
   "cell_type": "code",
   "execution_count": 5,
   "metadata": {},
   "outputs": [
    {
     "ename": "NameError",
     "evalue": "name 'np' is not defined",
     "output_type": "error",
     "traceback": [
      "\u001b[0;31m---------------------------------------------------------------------------\u001b[0m",
      "\u001b[0;31mNameError\u001b[0m                                 Traceback (most recent call last)",
      "Cell \u001b[0;32mIn[5], line 12\u001b[0m\n\u001b[1;32m      9\u001b[0m plt\u001b[39m.\u001b[39mrcParams[\u001b[39m\"\u001b[39m\u001b[39mfigure.autolayout\u001b[39m\u001b[39m\"\u001b[39m] \u001b[39m=\u001b[39m \u001b[39mTrue\u001b[39;00m\n\u001b[1;32m     11\u001b[0m \u001b[39mfor\u001b[39;00m i \u001b[39min\u001b[39;00m \u001b[39mrange\u001b[39m(\u001b[39m0\u001b[39m, total):\n\u001b[0;32m---> 12\u001b[0m     x \u001b[39m=\u001b[39m np\u001b[39m.\u001b[39mrand(\u001b[39m1\u001b[39m)\n\u001b[1;32m     13\u001b[0m     y \u001b[39m=\u001b[39m np\u001b[39m.\u001b[39mrand(\u001b[39m1\u001b[39m)\n\u001b[1;32m     14\u001b[0m     \u001b[39mif\u001b[39;00m(math\u001b[39m.\u001b[39msqrt(x\u001b[39m*\u001b[39mx \u001b[39m+\u001b[39m y\u001b[39m*\u001b[39my) \u001b[39m<\u001b[39m\u001b[39m=\u001b[39m \u001b[39m1\u001b[39m):\n",
      "\u001b[0;31mNameError\u001b[0m: name 'np' is not defined"
     ]
    }
   ],
   "source": [
    "import math\n",
    "import numpy as np\n",
    "import matplotlib.pyplot as plt\n",
    "\n",
    "inside = 0\n",
    "total = 1000\n",
    "\n",
    "\n",
    "plt.rcParams[\"figure.figsize\"] = [1,1]\n",
    "plt.rcParams[\"figure.autolayout\"] = True\n",
    "\n",
    "for i in range(0, total):\n",
    "    x = np.rand(1)\n",
    "    y = np.rand(1)\n",
    "    if(math.sqrt(x*x + y*y) <= 1):\n",
    "        inside += 1\n",
    "        plt.plot(x, y, 'r*')\n",
    "    else:\n",
    "        plt.plot(x, y, 'b*')\n",
    "\n",
    "area = inside/total"
   ]
  },
  {
   "cell_type": "code",
   "execution_count": 3,
   "metadata": {},
   "outputs": [
    {
     "data": {
      "text/plain": [
       "1.4142135623730951"
      ]
     },
     "execution_count": 3,
     "metadata": {},
     "output_type": "execute_result"
    }
   ],
   "source": [
    "import math\n",
    "math.sqrt(2)"
   ]
  },
  {
   "cell_type": "code",
   "execution_count": null,
   "metadata": {},
   "outputs": [],
   "source": []
  }
 ],
 "metadata": {
  "kernelspec": {
   "display_name": ".venv",
   "language": "python",
   "name": "python3"
  },
  "language_info": {
   "codemirror_mode": {
    "name": "ipython",
    "version": 3
   },
   "file_extension": ".py",
   "mimetype": "text/x-python",
   "name": "python",
   "nbconvert_exporter": "python",
   "pygments_lexer": "ipython3",
   "version": "3.10.4"
  },
  "orig_nbformat": 4
 },
 "nbformat": 4,
 "nbformat_minor": 2
}
