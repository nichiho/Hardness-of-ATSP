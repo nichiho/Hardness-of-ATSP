{
 "cells": [
  {
   "cell_type": "code",
   "execution_count": null,
   "metadata": {},
   "outputs": [],
   "source": [
    "# Imports\n",
    "\n",
    "import matplotlib.pyplot as plt\n",
    "\n",
    "from LittlesAlgorithm.hill_climbing import mutate_matrix, hill_climbing"
   ]
  },
  {
   "cell_type": "code",
   "execution_count": null,
   "metadata": {},
   "outputs": [],
   "source": [
    "# Implement hill-climbing\n",
    "\n",
    "mtx_list, performance_list, used_or_not = hill_climbing(30, 10000, 200)\n",
    "\n",
    "print(mtx_list, performance_list, used_or_not)\n"
   ]
  },
  {
   "cell_type": "code",
   "execution_count": null,
   "metadata": {},
   "outputs": [],
   "source": [
    "# Plot run-time\n",
    "\n",
    "plt.plot(performance_list)\n",
    "plt.title(\"Performance of Little's algorithm for 30 cities and maximum element value 10000\")\n",
    "plt.xlabel(\"Number of iterations of hill-climber\")\n",
    "plt.ylabel(\"Number of iterations to find solution\")\n",
    "plt.show()"
   ]
  }
 ],
 "metadata": {
  "language_info": {
   "name": "python"
  },
  "orig_nbformat": 4
 },
 "nbformat": 4,
 "nbformat_minor": 2
}
