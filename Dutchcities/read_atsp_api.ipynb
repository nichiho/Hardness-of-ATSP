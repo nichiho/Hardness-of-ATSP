{
 "cells": [
  {
   "cell_type": "code",
   "execution_count": 13,
   "metadata": {},
   "outputs": [],
   "source": [
    "import pandas as pd\n",
    "import numpy as np\n",
    "import urllib.request\n",
    "import json\n",
    "\n",
    "import time\n",
    "import random\n",
    "import pickle\n",
    "\n",
    "import sys\n",
    "sys.path.insert(1, \"..\")\n",
    "from littles_algorithm.algorithm import get_minimal_route\n",
    "\n",
    "from scipy import stats\n"
   ]
  },
  {
   "cell_type": "code",
   "execution_count": 2,
   "metadata": {},
   "outputs": [],
   "source": [
    "with open('data/experiments', 'rb') as f:\n",
    "    experiments = pickle.load(f)\n",
    "\n",
    "experiments = experiments['experiments']"
   ]
  },
  {
   "cell_type": "code",
   "execution_count": 4,
   "metadata": {},
   "outputs": [
    {
     "name": "stdout",
     "output_type": "stream",
     "text": [
      "0\n",
      "--- 14.03253698348999 seconds ---\n",
      "1\n",
      "--- 14.497977018356323 seconds ---\n",
      "2\n",
      "--- 14.499826431274414 seconds ---\n",
      "3\n",
      "--- 14.50561261177063 seconds ---\n",
      "4\n",
      "--- 14.497304439544678 seconds ---\n",
      "5\n",
      "--- 14.499170541763306 seconds ---\n",
      "6\n",
      "--- 14.497897386550903 seconds ---\n",
      "7\n",
      "--- 14.503594875335693 seconds ---\n",
      "8\n",
      "--- 14.50231409072876 seconds ---\n",
      "9\n",
      "--- 14.498276233673096 seconds ---\n",
      "10\n",
      "--- 14.497955322265625 seconds ---\n",
      "11\n",
      "--- 14.49856424331665 seconds ---\n",
      "12\n",
      "--- 14.503864049911499 seconds ---\n",
      "13\n",
      "--- 14.50041675567627 seconds ---\n",
      "14\n",
      "--- 14.495859146118164 seconds ---\n",
      "15\n",
      "--- 14.500859022140503 seconds ---\n",
      "16\n",
      "--- 14.496459484100342 seconds ---\n",
      "17\n",
      "--- 14.498881340026855 seconds ---\n",
      "18\n",
      "--- 14.50400447845459 seconds ---\n",
      "19\n",
      "--- 14.498177289962769 seconds ---\n",
      "20\n",
      "--- 14.498675107955933 seconds ---\n",
      "21\n",
      "--- 14.50062346458435 seconds ---\n",
      "22\n",
      "--- 14.500746011734009 seconds ---\n",
      "23\n",
      "--- 14.497949123382568 seconds ---\n",
      "24\n",
      "--- 14.502413272857666 seconds ---\n",
      "25\n",
      "--- 14.500905990600586 seconds ---\n",
      "26\n",
      "--- 14.501068115234375 seconds ---\n",
      "27\n",
      "--- 14.497996091842651 seconds ---\n",
      "28\n",
      "--- 14.499464511871338 seconds ---\n",
      "29\n",
      "--- 14.501684188842773 seconds ---\n"
     ]
    }
   ],
   "source": [
    "nl_cities = pd.read_csv('nl_cities.csv')\n",
    "n_cities = 30\n",
    "\n",
    "def get_distances(nl_cities):\n",
    "    n_cities = nl_cities.shape[0]\n",
    "    \n",
    "    mtx_cities = np.empty((n_cities, n_cities))\n",
    "        \n",
    "    for i in range(0, n_cities): \n",
    "        print(i)\n",
    "        start_time = time.time()\n",
    "        for j in range(0, n_cities):\n",
    "            \n",
    "            if i == j:\n",
    "                mtx_cities[i][j] = np.inf\n",
    "            else:\n",
    "                coordinates = str(nl_cities[\"lng\"][i]) + ',' + str(nl_cities[\"lat\"][i]) + \";\" + str(nl_cities[\"lng\"][j]) + ',' + str(nl_cities[\"lat\"][j])\n",
    "                \n",
    "                contents_as_json= urllib.request.urlopen(\"http://router.project-osrm.org/route/v1/driving/{}?skip_waypoints=true\".format(coordinates)).read()\n",
    "                \n",
    "                routes = json.loads(contents_as_json)[\"routes\"]\n",
    "                distance = routes[0][\"distance\"]\n",
    "                \n",
    "                mtx_cities[i][j] = distance\n",
    "        print(\"--- %s seconds ---\" % (time.time() - start_time))\n",
    "                \n",
    "    return mtx_cities\n",
    "\n",
    "for i in range(10, 11):\n",
    "    mtx_cities = get_distances(experiments[i])\n",
    "    \n",
    "#    performance = get_minimal_route(mtx_cities)[2]\n",
    "    \n",
    "    file_name = 'data/{}'.format(i)\n",
    "\n",
    "    with open(file_name, 'wb') as f:\n",
    "        pickle.dump(mtx_cities, f)"
   ]
  },
  {
   "cell_type": "code",
   "execution_count": 55,
   "metadata": {},
   "outputs": [
    {
     "ename": "TypeError",
     "evalue": "only size-1 arrays can be converted to Python scalars",
     "output_type": "error",
     "traceback": [
      "\u001b[0;31m---------------------------------------------------------------------------\u001b[0m",
      "\u001b[0;31mTypeError\u001b[0m                                 Traceback (most recent call last)",
      "Cell \u001b[0;32mIn[55], line 3\u001b[0m\n\u001b[1;32m      1\u001b[0m \u001b[39mfor\u001b[39;00m i \u001b[39min\u001b[39;00m \u001b[39mrange\u001b[39m(\u001b[39mlen\u001b[39m(mtx_cities)):\n\u001b[1;32m      2\u001b[0m     \u001b[39mfor\u001b[39;00m j \u001b[39min\u001b[39;00m \u001b[39mrange\u001b[39m(\u001b[39mlen\u001b[39m(mtx_cities[i])):\n\u001b[0;32m----> 3\u001b[0m         \u001b[39mif\u001b[39;00m \u001b[39mnot\u001b[39;00m np\u001b[39m.\u001b[39misinf(\u001b[39mfloat\u001b[39;49m(mtx_cities[i][j])):\n\u001b[1;32m      4\u001b[0m             mtx_cities[i][j] \u001b[39m=\u001b[39m \u001b[39mint\u001b[39m(mtx_cities[i][j])\n",
      "\u001b[0;31mTypeError\u001b[0m: only size-1 arrays can be converted to Python scalars"
     ]
    }
   ],
   "source": [
    "for i in range(len(mtx_cities)):\n",
    "    for j in range(len(mtx_cities[i])):\n",
    "        if not np.isinf(float(mtx_cities[i][j])):\n",
    "            mtx_cities[i][j] = int(mtx_cities[i][j])"
   ]
  },
  {
   "cell_type": "code",
   "execution_count": 63,
   "metadata": {},
   "outputs": [
    {
     "data": {
      "text/plain": [
       "1"
      ]
     },
     "execution_count": 63,
     "metadata": {},
     "output_type": "execute_result"
    }
   ],
   "source": [
    "len(mtx_cities)"
   ]
  },
  {
   "cell_type": "code",
   "execution_count": 65,
   "metadata": {},
   "outputs": [
    {
     "ename": "TypeError",
     "evalue": "'numpy.float64' object is not iterable",
     "output_type": "error",
     "traceback": [
      "\u001b[0;31m---------------------------------------------------------------------------\u001b[0m",
      "\u001b[0;31mTypeError\u001b[0m                                 Traceback (most recent call last)",
      "Cell \u001b[0;32mIn[65], line 3\u001b[0m\n\u001b[1;32m      1\u001b[0m mtx_cities \u001b[39m=\u001b[39m mtx_cities[\u001b[39m0\u001b[39m]\n\u001b[1;32m      2\u001b[0m \u001b[39mfor\u001b[39;00m i \u001b[39min\u001b[39;00m \u001b[39mrange\u001b[39m(\u001b[39mlen\u001b[39m(mtx_cities)):\n\u001b[0;32m----> 3\u001b[0m     mtx_cities[i] \u001b[39m=\u001b[39m [\u001b[39mint\u001b[39m(val) \u001b[39mif\u001b[39;00m val \u001b[39m!=\u001b[39m np\u001b[39m.\u001b[39minf \u001b[39melse\u001b[39;00m val \u001b[39mfor\u001b[39;00m val \u001b[39min\u001b[39;00m mtx_cities[i]]\n",
      "\u001b[0;31mTypeError\u001b[0m: 'numpy.float64' object is not iterable"
     ]
    }
   ],
   "source": [
    "mtx_cities = mtx_cities[0]\n",
    "for i in range(len(mtx_cities)):\n",
    "    mtx_cities[i] = [int(val) if val != np.inf else val for val in mtx_cities[i]]\n"
   ]
  },
  {
   "cell_type": "code",
   "execution_count": 64,
   "metadata": {},
   "outputs": [
    {
     "ename": "TypeError",
     "evalue": "only size-1 arrays can be converted to Python scalars",
     "output_type": "error",
     "traceback": [
      "\u001b[0;31m---------------------------------------------------------------------------\u001b[0m",
      "\u001b[0;31mTypeError\u001b[0m                                 Traceback (most recent call last)",
      "Cell \u001b[0;32mIn[64], line 18\u001b[0m\n\u001b[1;32m     15\u001b[0m av_list\u001b[39m.\u001b[39mappend(np\u001b[39m.\u001b[39mma\u001b[39m.\u001b[39mmasked_invalid(mtx_cities)\u001b[39m.\u001b[39msum())\n\u001b[1;32m     16\u001b[0m sd_list\u001b[39m.\u001b[39mappend(np\u001b[39m.\u001b[39mma\u001b[39m.\u001b[39mmasked_invalid(mtx_cities)\u001b[39m.\u001b[39mstd())\n\u001b[0;32m---> 18\u001b[0m mtx_cities_int \u001b[39m=\u001b[39m [\u001b[39mint\u001b[39m(x) \u001b[39mfor\u001b[39;00m x \u001b[39min\u001b[39;00m mtx_cities]\n\u001b[1;32m     19\u001b[0m se_list\u001b[39m.\u001b[39mappend(stats\u001b[39m.\u001b[39mentropy(mtx_cities_int[np\u001b[39m.\u001b[39misfinite(mtx_cities_int)]))\n\u001b[1;32m     20\u001b[0m max_list\u001b[39m.\u001b[39mappend(np\u001b[39m.\u001b[39mma\u001b[39m.\u001b[39mmasked_invalid(mtx_cities)\u001b[39m.\u001b[39mmax())\n",
      "Cell \u001b[0;32mIn[64], line 18\u001b[0m, in \u001b[0;36m<listcomp>\u001b[0;34m(.0)\u001b[0m\n\u001b[1;32m     15\u001b[0m av_list\u001b[39m.\u001b[39mappend(np\u001b[39m.\u001b[39mma\u001b[39m.\u001b[39mmasked_invalid(mtx_cities)\u001b[39m.\u001b[39msum())\n\u001b[1;32m     16\u001b[0m sd_list\u001b[39m.\u001b[39mappend(np\u001b[39m.\u001b[39mma\u001b[39m.\u001b[39mmasked_invalid(mtx_cities)\u001b[39m.\u001b[39mstd())\n\u001b[0;32m---> 18\u001b[0m mtx_cities_int \u001b[39m=\u001b[39m [\u001b[39mint\u001b[39;49m(x) \u001b[39mfor\u001b[39;00m x \u001b[39min\u001b[39;00m mtx_cities]\n\u001b[1;32m     19\u001b[0m se_list\u001b[39m.\u001b[39mappend(stats\u001b[39m.\u001b[39mentropy(mtx_cities_int[np\u001b[39m.\u001b[39misfinite(mtx_cities_int)]))\n\u001b[1;32m     20\u001b[0m max_list\u001b[39m.\u001b[39mappend(np\u001b[39m.\u001b[39mma\u001b[39m.\u001b[39mmasked_invalid(mtx_cities)\u001b[39m.\u001b[39mmax())\n",
      "\u001b[0;31mTypeError\u001b[0m: only size-1 arrays can be converted to Python scalars"
     ]
    }
   ],
   "source": [
    "av_list = []\n",
    "sd_list = []\n",
    "se_list = []\n",
    "max_list = []\n",
    "min_list = []\n",
    "\n",
    "for i in range(10):\n",
    "    data_mtx_cities = 'data/{}'.format(i)\n",
    "    \n",
    "    with open(data_mtx_cities, 'rb') as f:\n",
    "        mtx_cities = pickle.load(f)\n",
    "    \n",
    "    mtx_cities = mtx_cities[0]\n",
    "    \n",
    "    av_list.append(np.ma.masked_invalid(mtx_cities).sum())\n",
    "    sd_list.append(np.ma.masked_invalid(mtx_cities).std())\n",
    "    \n",
    "    mtx_cities_int = [int(x) for x in mtx_cities]\n",
    "    se_list.append(stats.entropy(mtx_cities_int[np.isfinite(mtx_cities_int)]))\n",
    "    max_list.append(np.ma.masked_invalid(mtx_cities).max())\n",
    "    min_list.append(np.ma.masked_invalid(mtx_cities).min())\n"
   ]
  },
  {
   "cell_type": "code",
   "execution_count": null,
   "metadata": {},
   "outputs": [],
   "source": []
  }
 ],
 "metadata": {
  "kernelspec": {
   "display_name": ".venv",
   "language": "python",
   "name": "python3"
  },
  "language_info": {
   "codemirror_mode": {
    "name": "ipython",
    "version": 3
   },
   "file_extension": ".py",
   "mimetype": "text/x-python",
   "name": "python",
   "nbconvert_exporter": "python",
   "pygments_lexer": "ipython3",
   "version": "3.10.4"
  },
  "orig_nbformat": 4
 },
 "nbformat": 4,
 "nbformat_minor": 2
}
